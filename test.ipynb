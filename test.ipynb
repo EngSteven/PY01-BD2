{
 "cells": [
  {
   "cell_type": "code",
   "execution_count": 18,
   "metadata": {},
   "outputs": [],
   "source": [
    "from pymongo import MongoClient\n",
    "\n",
    "connection_string = 'mongodb://localhost:27017/'\n",
    "client = MongoClient(connection_string, username='root', password='root')\n",
    "db = client[\"PRY01\"]\n",
    "posts_collection = db['posts']\n",
    "comentarios_collection = db['comentarios']\n",
    "reacciones_collection = db['reacciones']"
   ]
  },
  {
   "cell_type": "code",
   "execution_count": 8,
   "metadata": {},
   "outputs": [],
   "source": [
    "def insertar_post(user_id: int, text: str, images: list, reacciones: list, comentarios: list):\n",
    "        post = {\n",
    "            'usuario_id' : user_id,\n",
    "            'text' : text,\n",
    "            'images' : images,\n",
    "            'reacciones' : reacciones,\n",
    "            'comentarios' : comentarios\n",
    "        }\n",
    "\n",
    "        resultado = posts_collection.insert_one(post)\n",
    "        print(resultado.inserted_id)\n",
    "\n",
    "def obtener_posts(user_id):\n",
    "    res = posts_collection.find({\"usuario_id\": user_id})\n",
    "    return list(res)\n",
    "\n",
    "def post_id(id):\n",
    "     return id\n",
    "\n",
    "def insertar_comentario(user_id: int, post_id: str, coment_text: str):\n",
    "# coment_id: int\n",
    "# user_id: int\n",
    "# coment_text: str\n",
    "# reacciones: list\n",
    "    comentario = {\n",
    "        'coment_id': 0,\n",
    "        'post_id' : post_id,\n",
    "        'user_id' : user_id,\n",
    "        'text' : coment_text,\n",
    "        'reacciones' : [] \n",
    "    }\n",
    "\n",
    "    resultado = comentarios_collection.insert_one(comentario)\n",
    "\n",
    "    posts_collection.update_one(\n",
    "        {'_id' : post_id},\n",
    "        {'$push' : {'comentarios' : comentario}}\n",
    "    )\n",
    "\n",
    "\n",
    "\n",
    "    comentarios_collection.update_one(\n",
    "         {'_id' : resultado.inserted_id},\n",
    "         {'$push' : {'coment_id' : resultado.inserted_id}}\n",
    "    )\n",
    "    #comentario.coment_id = resultado.inserted_id\n",
    "\n",
    "#def insertar_reaccion(self, reaccion: Likes, id):\n",
    "#     react_id: int\n",
    "# user_id: int\n",
    "# reaccion: Reaccion\n",
    "    # comentario = self.comentarios_collection.find_one({'_id' : id})\n",
    "    # post = self.posts_collection.find_one({'_id' : id})\n",
    "\n",
    "    # reaccion = {\n",
    "    #     'reacted_id' : id,\n",
    "    #     'user_id' : reaccion.user_id,\n",
    "    #     'reaccion' : reaccion.reaccion\n",
    "    # }\n",
    "\n",
    "    # resultado = self.reacciones_collection.insert_one(reaccion)\n",
    "\n",
    "    # if comentario: \n",
    "    #     self.comentarios_collection.update_one(\n",
    "    #         {'_id' : id},\n",
    "    #         {'$push' : {'reacciones' : reaccion}}\n",
    "    #     )\n",
    "    # elif post:\n",
    "    #     self.posts_collection.update_one(\n",
    "    #         {'_id' : id},\n",
    "    #         {'$push' : {'reacciones' : reaccion}}\n",
    "    #     )"
   ]
  },
  {
   "cell_type": "code",
   "execution_count": 9,
   "metadata": {},
   "outputs": [
    {
     "ename": "NameError",
     "evalue": "name 'posts_collection' is not defined",
     "output_type": "error",
     "traceback": [
      "\u001b[1;31m---------------------------------------------------------------------------\u001b[0m",
      "\u001b[1;31mNameError\u001b[0m                                 Traceback (most recent call last)",
      "Cell \u001b[1;32mIn[9], line 7\u001b[0m\n\u001b[0;32m      1\u001b[0m \u001b[38;5;66;03m#insertar_post(1, \"Test1\", [], [], [])\u001b[39;00m\n\u001b[0;32m      2\u001b[0m \u001b[38;5;66;03m#insertar_post(1, \"Test2\", [], [], [])\u001b[39;00m\n\u001b[0;32m      3\u001b[0m \u001b[38;5;66;03m#insertar_post(1, \"Test3\", [], [], [])\u001b[39;00m\n\u001b[0;32m      4\u001b[0m \u001b[38;5;28;01mfrom\u001b[39;00m \u001b[38;5;21;01mbson\u001b[39;00m \u001b[38;5;28;01mimport\u001b[39;00m ObjectId\n\u001b[1;32m----> 7\u001b[0m result \u001b[38;5;241m=\u001b[39m \u001b[43mposts_collection\u001b[49m\u001b[38;5;241m.\u001b[39mfind_one({\u001b[38;5;124m\"\u001b[39m\u001b[38;5;124m_id\u001b[39m\u001b[38;5;124m\"\u001b[39m: ObjectId(\u001b[38;5;124m\"\u001b[39m\u001b[38;5;124m6712b6cd69123547e7c55c53\u001b[39m\u001b[38;5;124m\"\u001b[39m)}, {\u001b[38;5;124m\"\u001b[39m\u001b[38;5;124m_id\u001b[39m\u001b[38;5;124m\"\u001b[39m: \u001b[38;5;241m1\u001b[39m})\n\u001b[0;32m      8\u001b[0m \u001b[38;5;28;01mif\u001b[39;00m result:\n\u001b[0;32m      9\u001b[0m     id_variable \u001b[38;5;241m=\u001b[39m result[\u001b[38;5;124m\"\u001b[39m\u001b[38;5;124m_id\u001b[39m\u001b[38;5;124m\"\u001b[39m]\n",
      "\u001b[1;31mNameError\u001b[0m: name 'posts_collection' is not defined"
     ]
    }
   ],
   "source": [
    "#insertar_post(1, \"Test1\", [], [], [])\n",
    "#insertar_post(1, \"Test2\", [], [], [])\n",
    "#insertar_post(1, \"Test3\", [], [], [])\n",
    "from bson import ObjectId\n",
    "\n",
    "\n",
    "result = posts_collection.find_one({\"_id\": ObjectId(\"6712b6cd69123547e7c55c53\")}, {\"_id\": 1})\n",
    "if result:\n",
    "    id_variable = result[\"_id\"]\n",
    "insertar_comentario(1, id_variable, \"comentario test1\")\n",
    "obtener_posts(1)\n",
    "\n",
    "    "
   ]
  }
 ],
 "metadata": {
  "kernelspec": {
   "display_name": "restapi-OWGpTZ_t-py3.10",
   "language": "python",
   "name": "python3"
  },
  "language_info": {
   "codemirror_mode": {
    "name": "ipython",
    "version": 3
   },
   "file_extension": ".py",
   "mimetype": "text/x-python",
   "name": "python",
   "nbconvert_exporter": "python",
   "pygments_lexer": "ipython3",
   "version": "3.10.1"
  }
 },
 "nbformat": 4,
 "nbformat_minor": 2
}
